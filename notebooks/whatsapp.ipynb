{
 "cells": [
  {
   "cell_type": "code",
   "execution_count": 3,
   "metadata": {},
   "outputs": [
    {
     "name": "stdout",
     "output_type": "stream",
     "text": [
      "Collecting pandas\n",
      "  Downloading pandas-1.0.5-cp37-cp37m-manylinux1_x86_64.whl (10.1 MB)\n",
      "\u001b[K     |████████████████████████████████| 10.1 MB 15.3 MB/s eta 0:00:01\n",
      "\u001b[?25hRequirement already satisfied: python-dateutil>=2.6.1 in /home/febriy/anaconda3/envs/web/lib/python3.7/site-packages (from pandas) (2.8.1)\n",
      "Collecting numpy>=1.13.3\n",
      "  Using cached numpy-1.18.5-cp37-cp37m-manylinux1_x86_64.whl (20.1 MB)\n",
      "Collecting pytz>=2017.2\n",
      "  Using cached pytz-2020.1-py2.py3-none-any.whl (510 kB)\n",
      "Requirement already satisfied: six>=1.5 in /home/febriy/anaconda3/envs/web/lib/python3.7/site-packages (from python-dateutil>=2.6.1->pandas) (1.15.0)\n",
      "Installing collected packages: numpy, pytz, pandas\n",
      "Successfully installed numpy-1.18.5 pandas-1.0.5 pytz-2020.1\n"
     ]
    }
   ],
   "source": [
    "!pip install pandas"
   ]
  },
  {
   "cell_type": "code",
   "execution_count": 48,
   "metadata": {},
   "outputs": [],
   "source": [
    "import pandas as pd"
   ]
  },
  {
   "cell_type": "code",
   "execution_count": 59,
   "metadata": {},
   "outputs": [],
   "source": [
    "send_list = pd.read_csv(\"send_list.csv\")"
   ]
  },
  {
   "cell_type": "code",
   "execution_count": 60,
   "metadata": {},
   "outputs": [
    {
     "data": {
      "text/html": [
       "<div>\n",
       "<style scoped>\n",
       "    .dataframe tbody tr th:only-of-type {\n",
       "        vertical-align: middle;\n",
       "    }\n",
       "\n",
       "    .dataframe tbody tr th {\n",
       "        vertical-align: top;\n",
       "    }\n",
       "\n",
       "    .dataframe thead th {\n",
       "        text-align: right;\n",
       "    }\n",
       "</style>\n",
       "<table border=\"1\" class=\"dataframe\">\n",
       "  <thead>\n",
       "    <tr style=\"text-align: right;\">\n",
       "      <th></th>\n",
       "      <th>0_1</th>\n",
       "      <th>field_1</th>\n",
       "      <th>1_2</th>\n",
       "      <th>field_2</th>\n",
       "      <th>2_3</th>\n",
       "      <th>date</th>\n",
       "      <th>3_4</th>\n",
       "      <th>time</th>\n",
       "      <th>4_end</th>\n",
       "      <th>to</th>\n",
       "    </tr>\n",
       "  </thead>\n",
       "  <tbody>\n",
       "    <tr>\n",
       "      <th>0</th>\n",
       "      <td>Good morning</td>\n",
       "      <td>Person_1</td>\n",
       "      <td>, please visit</td>\n",
       "      <td>Person_2</td>\n",
       "      <td>on</td>\n",
       "      <td>19-Jun</td>\n",
       "      <td>,</td>\n",
       "      <td>10:00:00 pm</td>\n",
       "      <td>, thank you!</td>\n",
       "      <td>Arvin</td>\n",
       "    </tr>\n",
       "    <tr>\n",
       "      <th>1</th>\n",
       "      <td></td>\n",
       "      <td>Person_3</td>\n",
       "      <td>NaN</td>\n",
       "      <td>Person_4</td>\n",
       "      <td>NaN</td>\n",
       "      <td>20-Jun</td>\n",
       "      <td>NaN</td>\n",
       "      <td>11:00:00 AM</td>\n",
       "      <td>NaN</td>\n",
       "      <td>Arvin</td>\n",
       "    </tr>\n",
       "  </tbody>\n",
       "</table>\n",
       "</div>"
      ],
      "text/plain": [
       "             0_1   field_1               1_2   field_2   2_3    date  3_4  \\\n",
       "0  Good morning   Person_1   , please visit   Person_2   on   19-Jun   ,    \n",
       "1                 Person_3               NaN  Person_4   NaN  20-Jun  NaN   \n",
       "\n",
       "          time         4_end     to  \n",
       "0  10:00:00 pm  , thank you!  Arvin  \n",
       "1  11:00:00 AM           NaN  Arvin  "
      ]
     },
     "execution_count": 60,
     "metadata": {},
     "output_type": "execute_result"
    }
   ],
   "source": [
    "send_list"
   ]
  },
  {
   "cell_type": "code",
   "execution_count": 61,
   "metadata": {},
   "outputs": [
    {
     "data": {
      "text/plain": [
       "Index(['0_1', 'field_1', '1_2', 'field_2', '2_3', 'date', '3_4', 'time',\n",
       "       '4_end', 'to'],\n",
       "      dtype='object')"
      ]
     },
     "execution_count": 61,
     "metadata": {},
     "output_type": "execute_result"
    }
   ],
   "source": [
    "send_list.columns"
   ]
  },
  {
   "cell_type": "code",
   "execution_count": 62,
   "metadata": {},
   "outputs": [
    {
     "data": {
      "text/plain": [
       "'Person_4'"
      ]
     },
     "execution_count": 62,
     "metadata": {},
     "output_type": "execute_result"
    }
   ],
   "source": [
    "send_list.loc[n,\"field_2\"]"
   ]
  },
  {
   "cell_type": "code",
   "execution_count": 63,
   "metadata": {},
   "outputs": [
    {
     "name": "stdout",
     "output_type": "stream",
     "text": [
      "Arvin Good morning Person_1 , please visit Person_2 on 19-Jun, 10:00:00 pm, thank you!\n",
      "Arvin Good morning Person_3 , please visit Person_4 on 20-Jun, 11:00:00 AM, thank you!\n"
     ]
    }
   ],
   "source": [
    "for n, row in send_list.iterrows():\n",
    "    target = send_list.loc[n,\"to\"]\n",
    "    msg = (send_list.loc[0,\"0_1\"]\n",
    "            +send_list.loc[n,\"field_1\"] \n",
    "            +send_list.loc[0,\"1_2\"] \n",
    "            +send_list.loc[n,\"field_2\"] \n",
    "            +send_list.loc[0,\"2_3\"]\n",
    "            +send_list.loc[n,\"date\"] \n",
    "            +send_list.loc[0,\"3_4\"]\n",
    "            +send_list.loc[n,\"time\"] \n",
    "            +send_list.loc[0,\"4_end\"])\n",
    "    \n",
    "    print (target, msg)"
   ]
  },
  {
   "cell_type": "code",
   "execution_count": null,
   "metadata": {},
   "outputs": [],
   "source": []
  },
  {
   "cell_type": "code",
   "execution_count": null,
   "metadata": {},
   "outputs": [],
   "source": []
  }
 ],
 "metadata": {
  "kernelspec": {
   "display_name": "Python 3",
   "language": "python",
   "name": "python3"
  },
  "language_info": {
   "codemirror_mode": {
    "name": "ipython",
    "version": 3
   },
   "file_extension": ".py",
   "mimetype": "text/x-python",
   "name": "python",
   "nbconvert_exporter": "python",
   "pygments_lexer": "ipython3",
   "version": "3.7.7"
  }
 },
 "nbformat": 4,
 "nbformat_minor": 4
}
